{
  "nbformat": 4,
  "nbformat_minor": 0,
  "metadata": {
    "colab": {
      "provenance": []
    },
    "kernelspec": {
      "name": "python3",
      "display_name": "Python 3"
    },
    "language_info": {
      "name": "python"
    }
  },
  "cells": [
    {
      "cell_type": "code",
      "execution_count": 1,
      "metadata": {
        "colab": {
          "base_uri": "https://localhost:8080/"
        },
        "id": "vVcGXqfOLzy6",
        "outputId": "8f9c487a-ad6c-47bd-8343-4cbe5ca0a638"
      },
      "outputs": [
        {
          "output_type": "stream",
          "name": "stdout",
          "text": [
            "Drive already mounted at /content/drive; to attempt to forcibly remount, call drive.mount(\"/content/drive\", force_remount=True).\n"
          ]
        }
      ],
      "source": [
        "import pandas as pd\n",
        "import numpy as np\n",
        "import os\n",
        "from google.colab import drive\n",
        "import seaborn as sns\n",
        "import matplotlib.pyplot as plt\n",
        "drive.mount('/content/drive')\n",
        "\n",
        "df = pd.read_csv(\"/content/drive/MyDrive/frailty_data.csv\")"
      ]
    },
    {
      "cell_type": "code",
      "source": [
        "from sklearn.preprocessing import StandardScaler\n",
        "raw_data = \"/content/drive/MyDrive/frailty_data.csv\"\n",
        "df = pd.read_csv(raw_data)\n",
        "print(\"Initial Data:\")\n",
        "print(df.head())\n",
        "df['Frailty'] = df['Frailty'].map({'N': 0, 'Y': 1})\n",
        "numeric_columns = ['Height', 'Weight', 'Age', 'Grip strength']\n",
        "scaler = StandardScaler()\n",
        "df[numeric_columns] = scaler.fit_transform(df[numeric_columns])\n",
        "print(\"Processed Data:\")\n",
        "print(df.head())"
      ],
      "metadata": {
        "colab": {
          "base_uri": "https://localhost:8080/"
        },
        "id": "ywYRNLqmJ0Lh",
        "outputId": "c8ceb60f-4217-4a0b-973c-55efb5fef30a"
      },
      "execution_count": 4,
      "outputs": [
        {
          "output_type": "stream",
          "name": "stdout",
          "text": [
            "Initial Data:\n",
            "   Height  Weight  Age  Grip strength Frailty\n",
            "0    65.8     112   30             30       N\n",
            "1    71.5     136   19             31       N\n",
            "2    69.4     153   45             29       N\n",
            "3    68.2     142   22             28       Y\n",
            "4    67.8     144   29             24       Y\n",
            "Processed Data:\n",
            "     Height    Weight       Age  Grip strength  Frailty\n",
            "0 -1.766641 -1.473912 -0.204911       0.932505        0\n",
            "1  1.829735  0.303670 -1.106520       1.165631        0\n",
            "2  0.504754  1.562791  1.024556       0.699379        0\n",
            "3 -0.252377  0.748066 -0.860627       0.466252        1\n",
            "4 -0.504754  0.896198 -0.286876      -0.466252        1\n"
          ]
        }
      ]
    },
    {
      "cell_type": "markdown",
      "source": [
        "#Feature Engineering"
      ],
      "metadata": {
        "id": "I1YZv2RzNA9y"
      }
    },
    {
      "cell_type": "code",
      "source": [
        "df[\"BMI\"] = (df[\"Weight\"] / (df[\"Height\"] ** 2)).round(2)\n",
        "\n",
        "def age_group(age):\n",
        "    if age < 30:\n",
        "        return \"<30\"\n",
        "    elif 30 <= age <= 45:\n",
        "        return \"30–45\"\n",
        "    elif 46 <= age <= 60:\n",
        "        return \"46–60\"\n",
        "    else:\n",
        "        return \">60\"\n",
        "\n",
        "df[\"AgeGroup\"] = df[\"Age\"].apply(age_group)\n",
        "print(age_group)\n"
      ],
      "metadata": {
        "colab": {
          "base_uri": "https://localhost:8080/"
        },
        "id": "7tujyPiqNBZt",
        "outputId": "9929fac4-02f1-497c-9fe5-87f146025130"
      },
      "execution_count": 6,
      "outputs": [
        {
          "output_type": "stream",
          "name": "stdout",
          "text": [
            "<function age_group at 0x7e4690936ca0>\n"
          ]
        }
      ]
    },
    {
      "cell_type": "code",
      "source": [
        "mean_bmi_by_frailty = df.groupby(\"Frailty\")[\"BMI\"].mean()\n",
        "grip_by_age_group = df.groupby(\"AgeGroup\")[\"Grip strength\"].mean()\n",
        "print(mean_bmi_by_frailty)\n",
        "print(grip_by_age_group)\n",
        "print(df[[\"Height\", \"Weight\", \"Age\", \"Grip strength\", \"Frailty\", \"BMI\", \"AgeGroup\"]])"
      ],
      "metadata": {
        "colab": {
          "base_uri": "https://localhost:8080/"
        },
        "id": "rai8e-dcNYQ5",
        "outputId": "7c770531-0de3-47f9-e3ad-f0566f671602"
      },
      "execution_count": 8,
      "outputs": [
        {
          "output_type": "stream",
          "name": "stdout",
          "text": [
            "Frailty\n",
            "0   -28.013333\n",
            "1     4.195000\n",
            "Name: BMI, dtype: float64\n",
            "AgeGroup\n",
            "<30    0.0\n",
            "Name: Grip strength, dtype: float64\n",
            "     Height    Weight       Age  Grip strength  Frailty     BMI AgeGroup\n",
            "0 -1.766641 -1.473912 -0.204911       0.932505        0   -0.47      <30\n",
            "1  1.829735  0.303670 -1.106520       1.165631        0    0.09      <30\n",
            "2  0.504754  1.562791  1.024556       0.699379        0    6.13      <30\n",
            "3 -0.252377  0.748066 -0.860627       0.466252        1   11.74      <30\n",
            "4 -0.504754  0.896198 -0.286876      -0.466252        1    3.52      <30\n",
            "5  0.063094 -0.659187  1.434378       0.000000        0 -165.59      <30\n",
            "6  0.757132  0.674000  1.516343      -0.932505        1    1.18      <30\n",
            "7  0.946415  0.303670 -0.778662      -1.398757        1    0.34      <30\n",
            "8 -0.441660 -1.473912 -1.270449      -1.631883        0   -7.56      <30\n",
            "9 -1.135698 -0.881385  0.532769       1.165631        0   -0.68      <30\n"
          ]
        }
      ]
    },
    {
      "cell_type": "markdown",
      "source": [
        "#One-Hot Encoding of AgeGroup"
      ],
      "metadata": {
        "id": "akCkFbv0O43h"
      }
    },
    {
      "cell_type": "code",
      "source": [
        "df[\"AgeGroup\"] = df[\"Age\"].apply(age_group)\n",
        "df = pd.get_dummies(df, columns=[\"AgeGroup\"])"
      ],
      "metadata": {
        "id": "mxVZxmJHO5Wl"
      },
      "execution_count": 12,
      "outputs": []
    },
    {
      "cell_type": "markdown",
      "source": [
        "#EDA & Reporting\n"
      ],
      "metadata": {
        "id": "x6PossiJQ0sI"
      }
    },
    {
      "cell_type": "code",
      "source": [
        "numeric_cols = df.select_dtypes(include=['float64', 'int64', 'int8']).columns\n",
        "summary_stats = df[numeric_cols].agg(['mean', 'median', 'std']).transpose()\n",
        "print(numeric_cols)\n",
        "print(summary_stats)"
      ],
      "metadata": {
        "colab": {
          "base_uri": "https://localhost:8080/"
        },
        "id": "FumQJ-I1QicN",
        "outputId": "5ffa3bf8-1da1-45f0-ca9a-4a85c0210233"
      },
      "execution_count": 9,
      "outputs": [
        {
          "output_type": "stream",
          "name": "stdout",
          "text": [
            "Index(['Height', 'Weight', 'Age', 'Grip strength', 'Frailty', 'BMI'], dtype='object')\n",
            "                       mean    median        std\n",
            "Height         3.552714e-15 -0.094641   1.054093\n",
            "Weight        -4.440892e-16  0.303670   1.054093\n",
            "Age            1.110223e-17 -0.245893   1.054093\n",
            "Grip strength  4.440892e-17  0.233126   1.054093\n",
            "Frailty        4.000000e-01  0.000000   0.516398\n",
            "BMI           -1.513000e+01  0.215000  53.101608\n"
          ]
        }
      ]
    },
    {
      "cell_type": "markdown",
      "source": [
        "#correlation"
      ],
      "metadata": {
        "id": "S_piD3VKRAY8"
      }
    },
    {
      "cell_type": "code",
      "source": [
        "grip_frailty_corr = df[\"Grip strength\"].corr(df[\"Frailty\"])\n",
        "print(grip_frailty_corr)"
      ],
      "metadata": {
        "colab": {
          "base_uri": "https://localhost:8080/"
        },
        "id": "nGfza7MCQ8Yk",
        "outputId": "b8b5758e-4f6d-4b02-b1a0-c9d37d335caa"
      },
      "execution_count": 14,
      "outputs": [
        {
          "output_type": "stream",
          "name": "stdout",
          "text": [
            "-0.4758668672668008\n"
          ]
        }
      ]
    }
  ]
}